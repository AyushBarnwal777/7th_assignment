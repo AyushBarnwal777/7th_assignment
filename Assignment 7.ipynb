{
 "cells": [
  {
   "cell_type": "markdown",
   "metadata": {},
   "source": [
    "# Q1.\n",
    "Abstraction is one of the fundamental principles of Object-Oriented Programming (OOP). It refers to the concept of hiding complex implementation details and showing only the necessary features of an object. Abstraction allows you to focus on what an object does rather than how it does it. It helps in simplifying the complexity of a system by breaking it down into manageable parts."
   ]
  },
  {
   "cell_type": "code",
   "execution_count": 2,
   "metadata": {},
   "outputs": [
    {
     "name": "stdout",
     "output_type": "stream",
     "text": [
      "Rectangle Area: 20\n",
      "Circle Area: 28.259999999999998\n"
     ]
    }
   ],
   "source": [
    "from abc import ABC, abstractmethod\n",
    "\n",
    "# Define an abstract class called Shape\n",
    "class Shape(ABC):\n",
    "    @abstractmethod\n",
    "    def area(self):\n",
    "        pass\n",
    "\n",
    "# Create a concrete subclass of Shape - Rectangle\n",
    "class Rectangle(Shape):\n",
    "    def __init__(self, width, height):\n",
    "        self.width = width\n",
    "        self.height = height\n",
    "    \n",
    "    def area(self):\n",
    "        return self.width * self.height\n",
    "\n",
    "# Create another concrete subclass of Shape - Circle\n",
    "class Circle(Shape):\n",
    "    def __init__(self, radius):\n",
    "        self.radius = radius\n",
    "    \n",
    "    def area(self):\n",
    "        return 3.14 * self.radius * self.radius\n",
    "\n",
    "# You cannot create an instance of the abstract class Shape\n",
    "# shape = Shape()  # This will raise an error\n",
    "\n",
    "# Create instances of the concrete classes\n",
    "rectangle = Rectangle(5, 4)\n",
    "circle = Circle(3)\n",
    "\n",
    "# Calculate and print the areas\n",
    "print(\"Rectangle Area:\", rectangle.area())  # Output: Rectangle Area: 20\n",
    "print(\"Circle Area:\", circle.area())        # Output: Circle Area: 28.26\n"
   ]
  },
  {
   "cell_type": "markdown",
   "metadata": {},
   "source": [
    "# Q2.\n",
    "Abstraction is a concept that focuses on hiding the complex implementation details of an object and showing only the essential features of that object. It is about simplifying complexity by breaking it down into manageable parts.\n",
    "Encapsulation is a concept that involves bundling the data (attributes or properties) and methods (functions) that operate on that data into a single unit called a class. It restricts direct access to some of the object's components, which are typically marked as private or protected, and provides controlled access through methods."
   ]
  },
  {
   "cell_type": "code",
   "execution_count": 4,
   "metadata": {},
   "outputs": [
    {
     "name": "stdout",
     "output_type": "stream",
     "text": [
      "Name: Ayush\n",
      "Age: 19\n",
      "Toyota car engine started\n",
      "Bicycles don't have engines\n"
     ]
    }
   ],
   "source": [
    "# Encapsulation Example\n",
    "class Person:\n",
    "    def __init__(self, name, age):\n",
    "        self._name = name  # Encapsulated as a protected attribute\n",
    "        self._age = age    # Encapsulated as a protected attribute\n",
    "\n",
    "    # Getter method to access the name attribute\n",
    "    def get_name(self):\n",
    "        return self._name\n",
    "\n",
    "    # Setter method to modify the age attribute\n",
    "    def set_age(self, age):\n",
    "        if age > 0:\n",
    "            self._age = age\n",
    "\n",
    "# Abstraction Example\n",
    "from abc import ABC, abstractmethod\n",
    "\n",
    "# Abstract class representing a vehicle\n",
    "class Vehicle(ABC):\n",
    "    def __init__(self, brand):\n",
    "        self.brand = brand\n",
    "\n",
    "    # Abstract method to be implemented by subclasses\n",
    "    @abstractmethod\n",
    "    def start_engine(self):\n",
    "        pass\n",
    "\n",
    "# Concrete subclass of Vehicle - Car\n",
    "class Car(Vehicle):\n",
    "    def start_engine(self):\n",
    "        return f\"{self.brand} car engine started\"\n",
    "\n",
    "# Concrete subclass of Vehicle - Bicycle\n",
    "class Bicycle(Vehicle):\n",
    "    def start_engine(self):\n",
    "        return \"Bicycles don't have engines\"\n",
    "\n",
    "# Encapsulation\n",
    "person = Person(\"Ayush\", 30)\n",
    "print(\"Name:\", person.get_name())  # Accessing the name attribute through a getter method\n",
    "person.set_age(19)                 # Modifying the age attribute through a setter method\n",
    "print(\"Age:\", person._age)         # Directly accessing a protected attribute (not recommended)\n",
    "\n",
    "# Abstraction\n",
    "car = Car(\"Toyota\")\n",
    "bicycle = Bicycle(\"Trek\")\n",
    "print(car.start_engine())      # Output: Toyota car engine started\n",
    "print(bicycle.start_engine())  # Output: Bicycles don't have engines\n"
   ]
  },
  {
   "cell_type": "markdown",
   "metadata": {},
   "source": [
    "# Q3.\n",
    "The abc module in Python stands for \"Abstract Base Classes.\" It is a module in the Python standard library that provides mechanisms for defining abstract base classes and enforcing the structure of classes that inherit from them. The primary purpose of the abc module is to enable the creation of abstract base classes and define a common interface or set of methods that must be implemented by their concrete subclasses. "
   ]
  },
  {
   "cell_type": "code",
   "execution_count": 5,
   "metadata": {},
   "outputs": [
    {
     "name": "stdout",
     "output_type": "stream",
     "text": [
      "Rectangle Area: 20\n"
     ]
    }
   ],
   "source": [
    "from abc import ABC, abstractmethod\n",
    "\n",
    "# Define an abstract base class (Shape)\n",
    "class Shape(ABC):\n",
    "\n",
    "    @abstractmethod\n",
    "    def area(self):\n",
    "        pass\n",
    "\n",
    "# Create a concrete subclass (Rectangle) that inherits from Shape\n",
    "class Rectangle(Shape):\n",
    "\n",
    "    def __init__(self, width, height):\n",
    "        self.width = width\n",
    "        self.height = height\n",
    "\n",
    "    def area(self):\n",
    "        return self.width * self.height\n",
    "\n",
    "# Create an instance of the concrete subclass\n",
    "rectangle = Rectangle(5, 4)\n",
    "\n",
    "# Call the abstract method\n",
    "print(\"Rectangle Area:\", rectangle.area())  # Output: Rectangle Area: 20\n",
    "\n",
    "# Attempt to create an instance of the abstract base class (will raise an error)\n",
    "# shape = Shape()  # This will raise a TypeError\n"
   ]
  },
  {
   "cell_type": "markdown",
   "metadata": {},
   "source": [
    "# Q4.\n",
    "Data abstraction in Python, as in most object-oriented programming languages, can be achieved by using classes and defining class members as private or protected, limiting their direct access from outside the class. This allows you to hide the internal details of an object and provide controlled access to its data through methods, such as getters and setters. "
   ]
  },
  {
   "cell_type": "markdown",
   "metadata": {},
   "source": [
    "# Q5.\n",
    "In Python, you cannot create an instance of an abstract class directly. Attempting to create an instance of an abstract class will result in a TypeError.\n",
    "\n",
    "An abstract class is defined using the abc module and typically contains one or more abstract methods. An abstract method is a method declared in the abstract class but lacks an implementation in the abstract class itself. It is meant to be implemented by concrete subclasses that inherit from the abstract class. Abstract methods are marked using the @abstractmethod decorator."
   ]
  }
 ],
 "metadata": {
  "kernelspec": {
   "display_name": "Python 3",
   "language": "python",
   "name": "python3"
  },
  "language_info": {
   "codemirror_mode": {
    "name": "ipython",
    "version": 3
   },
   "file_extension": ".py",
   "mimetype": "text/x-python",
   "name": "python",
   "nbconvert_exporter": "python",
   "pygments_lexer": "ipython3",
   "version": "3.11.3"
  },
  "orig_nbformat": 4
 },
 "nbformat": 4,
 "nbformat_minor": 2
}
